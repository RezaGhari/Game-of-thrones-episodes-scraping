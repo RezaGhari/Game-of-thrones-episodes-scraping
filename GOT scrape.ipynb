{
 "cells": [
  {
   "cell_type": "code",
   "execution_count": 1,
   "metadata": {},
   "outputs": [],
   "source": [
    "from requests import get\n",
    "from bs4 import BeautifulSoup\n",
    "from selenium import webdriver\n",
    "import pandas as pd\n",
    "import numpy as np\n",
    "import re\n",
    "from time import sleep\n",
    "from random import randint"
   ]
  },
  {
   "cell_type": "code",
   "execution_count": 2,
   "metadata": {},
   "outputs": [],
   "source": [
    "url = 'https://www.imdb.com/title/tt1480055/?ref_=ttep_ep1'\n",
    "ep1 = get(url)\n",
    "soup = BeautifulSoup(ep1.text, 'html.parser')"
   ]
  },
  {
   "cell_type": "code",
   "execution_count": 8,
   "metadata": {},
   "outputs": [
    {
     "data": {
      "text/plain": [
       "'Winter Is Coming'"
      ]
     },
     "execution_count": 8,
     "metadata": {},
     "output_type": "execute_result"
    }
   ],
   "source": [
    "title = soup.h1.get_text().strip()"
   ]
  },
  {
   "cell_type": "code",
   "execution_count": 15,
   "metadata": {},
   "outputs": [
    {
     "data": {
      "text/plain": [
       "9.1"
      ]
     },
     "execution_count": 15,
     "metadata": {},
     "output_type": "execute_result"
    }
   ],
   "source": [
    "rating = soup.find('div', class_=\"ratingValue\").strong.span.text\n",
    "rating = float(rating)\n",
    "rating"
   ]
  },
  {
   "cell_type": "code",
   "execution_count": 19,
   "metadata": {},
   "outputs": [
    {
     "data": {
      "text/plain": [
       "38639"
      ]
     },
     "execution_count": 19,
     "metadata": {},
     "output_type": "execute_result"
    }
   ],
   "source": [
    "votes = soup.find('span', class_= 'small').text.replace(',','')\n",
    "votes = int(votes)\n",
    "votes"
   ]
  },
  {
   "cell_type": "code",
   "execution_count": 40,
   "metadata": {},
   "outputs": [
    {
     "data": {
      "text/plain": [
       "62"
      ]
     },
     "execution_count": 40,
     "metadata": {},
     "output_type": "execute_result"
    }
   ],
   "source": [
    "time = soup.find('div', class_=\"subtext\").time.text.strip()\n",
    "time = re.split('h |min', time)\n",
    "time = int(time[0])*60 + int(time[1])\n",
    "time"
   ]
  },
  {
   "cell_type": "code",
   "execution_count": 48,
   "metadata": {},
   "outputs": [
    {
     "data": {
      "text/plain": [
       "'17 April 2011'"
      ]
     },
     "execution_count": 48,
     "metadata": {},
     "output_type": "execute_result"
    }
   ],
   "source": [
    "aired = soup.find('div', class_=\"subtext\").find_all('a')[-1].text.strip().split('Episode aired ')[1]"
   ]
  },
  {
   "cell_type": "code",
   "execution_count": 62,
   "metadata": {},
   "outputs": [
    {
     "data": {
      "text/plain": [
       "1"
      ]
     },
     "execution_count": 62,
     "metadata": {},
     "output_type": "execute_result"
    }
   ],
   "source": [
    "season = soup.find('div', class_=\"bp_heading\").text.split(' | ')[0].split('Season ')[1]\n",
    "season = int(season)\n",
    "episode = soup.find('div', class_=\"bp_heading\").text.split(' | ')[1].split('Episode ')[1]\n",
    "episode = int(episode)"
   ]
  },
  {
   "cell_type": "code",
   "execution_count": 65,
   "metadata": {},
   "outputs": [
    {
     "data": {
      "text/plain": [
       "'Eddard Stark is torn between his family and an old friend when asked to serve at the side of King Robert Baratheon; Viserys plans to wed his sister to a nomadic warlord in exchange for an army.'"
      ]
     },
     "execution_count": 65,
     "metadata": {},
     "output_type": "execute_result"
    }
   ],
   "source": [
    "summary = soup.find('div', class_=\"summary_text\").text.strip()"
   ]
  },
  {
   "cell_type": "code",
   "execution_count": 73,
   "metadata": {},
   "outputs": [
    {
     "data": {
      "text/plain": [
       "'Timothy Van Patten'"
      ]
     },
     "execution_count": 73,
     "metadata": {},
     "output_type": "execute_result"
    }
   ],
   "source": [
    "director = soup.find_all('div', class_=\"credit_summary_item\")[0].a.text"
   ]
  },
  {
   "cell_type": "code",
   "execution_count": 79,
   "metadata": {},
   "outputs": [
    {
     "data": {
      "text/plain": [
       "'D.B. Weiss'"
      ]
     },
     "execution_count": 79,
     "metadata": {},
     "output_type": "execute_result"
    }
   ],
   "source": [
    "writer1 = soup.find_all('div', class_=\"credit_summary_item\")[1].find_all('a')[0].text\n",
    "writer2 = soup.find_all('div', class_=\"credit_summary_item\")[1].find_all('a')[1].text\n",
    "writer2"
   ]
  },
  {
   "cell_type": "code",
   "execution_count": 85,
   "metadata": {},
   "outputs": [
    {
     "data": {
      "text/plain": [
       "'Nikolaj Coster-Waldau'"
      ]
     },
     "execution_count": 85,
     "metadata": {},
     "output_type": "execute_result"
    }
   ],
   "source": [
    "star1 = soup.find_all('div', class_=\"credit_summary_item\")[2].find_all('a')[0].text\n",
    "star2 = soup.find_all('div', class_=\"credit_summary_item\")[2].find_all('a')[1].text\n",
    "star3 = soup.find_all('div', class_=\"credit_summary_item\")[2].find_all('a')[2].text\n",
    "star3"
   ]
  },
  {
   "cell_type": "code",
   "execution_count": 97,
   "metadata": {},
   "outputs": [],
   "source": [
    "user_rev = soup.find('div',\n",
    "          class_=\n",
    "                \"titleReviewBarItem titleReviewbarItemBorder\").find_all('a')[0].text.split(' ')[0]\n",
    "user_rev = int(user_rev)\n",
    "critic_rev = soup.find('div',\n",
    "          class_=\n",
    "                \"titleReviewBarItem titleReviewbarItemBorder\").find_all('a')[1].text.split(' ')[0]\n",
    "critic_rev = int(critic_rev)"
   ]
  },
  {
   "cell_type": "code",
   "execution_count": 205,
   "metadata": {},
   "outputs": [
    {
     "name": "stdout",
     "output_type": "stream",
     "text": [
      "$8000000\n"
     ]
    }
   ],
   "source": [
    "blocks = soup.find_all('div', class_=\"txt-block\")\n",
    "for i in range(len(blocks)):\n",
    "    if blocks[i].h4:\n",
    "        if blocks[i].h4.text == 'Filming Locations:':\n",
    "            loc = blocks[i].a.text\n",
    "        elif blocks[i].h4.text == 'Budget:':\n",
    "            budget = blocks[i].get_text().strip()\n",
    "            budget = re.split('Budget:|estimated| ', budget)[1].strip().replace(',','')\n",
    "#             budget = int(budget)\n",
    "#             budget /= 1000000\n",
    "            print(budget)\n",
    "        elif blocks[i].h4.text == 'Runtime:':\n",
    "            time = blocks[i].time.text\n",
    "            time = int(time.split(' min')[0])\n",
    "\n",
    "# blocks"
   ]
  },
  {
   "cell_type": "code",
   "execution_count": 3,
   "metadata": {},
   "outputs": [],
   "source": [
    "links = []"
   ]
  },
  {
   "cell_type": "code",
   "execution_count": 4,
   "metadata": {},
   "outputs": [],
   "source": [
    "for i in range(1,9):\n",
    "    main_url = 'https://www.imdb.com/title/tt0944947/episodes?season='+str(i)\n",
    "    seas = get(main_url)\n",
    "    main_soup = BeautifulSoup(seas.text, 'html.parser')\n",
    "    boxes = main_soup.find_all('div', class_=\"info\")\n",
    "    for j in range(len(boxes)):\n",
    "        links.append(boxes[j].strong.a['href'])"
   ]
  },
  {
   "cell_type": "code",
   "execution_count": 5,
   "metadata": {},
   "outputs": [
    {
     "data": {
      "text/plain": [
       "73"
      ]
     },
     "execution_count": 5,
     "metadata": {},
     "output_type": "execute_result"
    }
   ],
   "source": [
    "len(links)"
   ]
  },
  {
   "cell_type": "code",
   "execution_count": 242,
   "metadata": {
    "scrolled": true
   },
   "outputs": [],
   "source": [
    "titles = list(set(titles))\n",
    "ratings = list(set(ratings))\n",
    "votes = list(set(votes))\n",
    "times = list(set(times))\n",
    "aireds = list(set(aireds))\n",
    "seasons = list(set(seasons))\n",
    "episodes = list(set(episodes))\n",
    "summs = list(set(summs))\n",
    "dirs = list(set(dirs))\n",
    "writer2s = list(set(writer2s))\n",
    "writer1s = list(set(writer1s))\n",
    "star1s = list(set(star1s))\n",
    "star2s = list(set(star2s))\n",
    "star3s = list(set(star3s))\n",
    "u_revs = list(set(u_revs))\n",
    "c_revs = list(set(c_revs))\n",
    "loc_nums = list(set(loc_nums))\n",
    "budgets = list(set(budgets))"
   ]
  },
  {
   "cell_type": "code",
   "execution_count": 245,
   "metadata": {
    "scrolled": false
   },
   "outputs": [
    {
     "name": "stdout",
     "output_type": "stream",
     "text": [
      "Doing page 1: https://www.imdb.com/title/tt1480055/\n",
      "Doing page 2: https://www.imdb.com/title/tt1668746/\n",
      "Doing page 3: https://www.imdb.com/title/tt1829962/\n",
      "Doing page 4: https://www.imdb.com/title/tt1829963/\n",
      "Doing page 5: https://www.imdb.com/title/tt1829964/\n",
      "Doing page 6: https://www.imdb.com/title/tt1837862/\n",
      "Doing page 7: https://www.imdb.com/title/tt1837863/\n",
      "Doing page 8: https://www.imdb.com/title/tt1837864/\n",
      "Doing page 9: https://www.imdb.com/title/tt1851398/\n",
      "Doing page 10: https://www.imdb.com/title/tt1851397/\n",
      "Doing page 11: https://www.imdb.com/title/tt1971833/\n",
      "Doing page 12: https://www.imdb.com/title/tt2069318/\n",
      "Doing page 13: https://www.imdb.com/title/tt2070135/\n",
      "Doing page 14: https://www.imdb.com/title/tt2069319/\n",
      "Doing page 15: https://www.imdb.com/title/tt2074658/\n",
      "Doing page 16: https://www.imdb.com/title/tt2085238/\n",
      "Doing page 17: https://www.imdb.com/title/tt2085239/\n",
      "Doing page 18: https://www.imdb.com/title/tt2085240/\n",
      "Doing page 19: https://www.imdb.com/title/tt2084342/\n",
      "Doing page 20: https://www.imdb.com/title/tt2112510/\n",
      "Doing page 21: https://www.imdb.com/title/tt2178782/\n",
      "Doing page 22: https://www.imdb.com/title/tt2178772/\n",
      "Doing page 23: https://www.imdb.com/title/tt2178802/\n",
      "Doing page 24: https://www.imdb.com/title/tt2178798/\n",
      "Doing page 25: https://www.imdb.com/title/tt2178788/\n",
      "Doing page 26: https://www.imdb.com/title/tt2178812/\n",
      "Doing page 27: https://www.imdb.com/title/tt2178814/\n",
      "Doing page 28: https://www.imdb.com/title/tt2178806/\n",
      "Doing page 29: https://www.imdb.com/title/tt2178784/\n",
      "Doing page 30: https://www.imdb.com/title/tt2178796/\n",
      "Doing page 31: https://www.imdb.com/title/tt2816136/\n",
      "Doing page 32: https://www.imdb.com/title/tt2832378/\n",
      "Doing page 33: https://www.imdb.com/title/tt2972426/\n",
      "Doing page 34: https://www.imdb.com/title/tt2972428/\n",
      "Doing page 35: https://www.imdb.com/title/tt3060856/\n",
      "Doing page 36: https://www.imdb.com/title/tt3060910/\n",
      "Doing page 37: https://www.imdb.com/title/tt3060876/\n",
      "Doing page 38: https://www.imdb.com/title/tt3060782/\n",
      "Doing page 39: https://www.imdb.com/title/tt3060858/\n",
      "Doing page 40: https://www.imdb.com/title/tt3060860/\n",
      "Doing page 41: https://www.imdb.com/title/tt3658012/\n",
      "Doing page 42: https://www.imdb.com/title/tt3846626/\n",
      "Doing page 43: https://www.imdb.com/title/tt3866836/\n",
      "Doing page 44: https://www.imdb.com/title/tt3866838/\n",
      "Doing page 45: https://www.imdb.com/title/tt3866840/\n",
      "Doing page 46: https://www.imdb.com/title/tt3866842/\n",
      "Doing page 47: https://www.imdb.com/title/tt3866846/\n",
      "Doing page 48: https://www.imdb.com/title/tt3866850/\n",
      "Doing page 49: https://www.imdb.com/title/tt3866826/\n",
      "Doing page 50: https://www.imdb.com/title/tt3866862/\n",
      "Doing page 51: https://www.imdb.com/title/tt3658014/\n",
      "Doing page 52: https://www.imdb.com/title/tt4077554/\n",
      "Doing page 53: https://www.imdb.com/title/tt4131606/\n",
      "Doing page 54: https://www.imdb.com/title/tt4283016/\n",
      "Doing page 55: https://www.imdb.com/title/tt4283028/\n",
      "Doing page 56: https://www.imdb.com/title/tt4283054/\n",
      "Doing page 57: https://www.imdb.com/title/tt4283060/\n",
      "Doing page 58: https://www.imdb.com/title/tt4283074/\n",
      "Doing page 59: https://www.imdb.com/title/tt4283088/\n",
      "Doing page 60: https://www.imdb.com/title/tt4283094/\n",
      "Doing page 61: https://www.imdb.com/title/tt5654088/\n",
      "Doing page 62: https://www.imdb.com/title/tt5655178/\n",
      "Doing page 63: https://www.imdb.com/title/tt5775840/\n",
      "Doing page 64: https://www.imdb.com/title/tt5775846/\n",
      "Doing page 65: https://www.imdb.com/title/tt5775854/\n",
      "Doing page 66: https://www.imdb.com/title/tt5775864/\n",
      "Doing page 67: https://www.imdb.com/title/tt5775874/\n",
      "Doing page 68: https://www.imdb.com/title/tt5924366/\n",
      "Doing page 69: https://www.imdb.com/title/tt6027908/\n",
      "Doing page 70: https://www.imdb.com/title/tt6027912/\n",
      "Doing page 71: https://www.imdb.com/title/tt6027914/\n",
      "Doing page 72: https://www.imdb.com/title/tt6027916/\n",
      "Doing page 73: https://www.imdb.com/title/tt6027920/\n"
     ]
    }
   ],
   "source": [
    "num = 0\n",
    "for link in links:\n",
    "    url = 'https://www.imdb.com'+link\n",
    "    ep = get(url)\n",
    "    soup = BeautifulSoup(ep.text, 'html.parser')\n",
    "    \n",
    "    num += 1\n",
    "    print(f\"Doing page {num}: {url}\")\n",
    "    title = soup.h1.get_text().strip()\n",
    "    titles.append(title)\n",
    "    \n",
    "    rating = soup.find('div', class_=\"ratingValue\").strong.span.text\n",
    "    rating = float(rating)\n",
    "    ratings.append(rating)\n",
    "    \n",
    "    vote = soup.find('span', class_= 'small').text.replace(',','')\n",
    "    vote = int(vote)\n",
    "    votes.append(vote)\n",
    "    \n",
    "#     time = soup.find('div', class_=\"subtext\").time.text.strip()\n",
    "#     time = re.split('h |min', time)\n",
    "#     time = int(time[0])*60 + int(time[1])\n",
    "#     times.append(time)\n",
    "    \n",
    "    aired = soup.find('div', class_=\"subtext\").find_all('a')[-1].text.strip().split(\n",
    "        'Episode aired ')[1]\n",
    "    aireds.append(aired)\n",
    "    \n",
    "    season = soup.find('div', class_=\"bp_heading\").text.split(' | ')[0].split('Season ')[1]\n",
    "    season = int(season)\n",
    "    seasons.append(season)\n",
    "    \n",
    "    episode = soup.find('div', class_=\"bp_heading\").text.split(' | ')[1].split('Episode ')[1]\n",
    "    episode = int(episode)\n",
    "    episodes.append(episode)\n",
    "    \n",
    "    summary = soup.find('div', class_=\"summary_text\").text.strip()\n",
    "    summs.append(summary)\n",
    "    \n",
    "    director = soup.find_all('div', class_=\"credit_summary_item\")[0].a.text\n",
    "    dirs.append(director)\n",
    "    \n",
    "    writer1 = soup.find_all('div', class_=\"credit_summary_item\")[1].find_all('a')[0].text\n",
    "    writer1s.append(writer1)\n",
    "    \n",
    "    writer2 = soup.find_all('div', class_=\"credit_summary_item\")[1].find_all('a')[1].text\n",
    "    writer2s.append(writer2)\n",
    "    \n",
    "    star1 = soup.find_all('div', class_=\"credit_summary_item\")[2].find_all('a')[0].text\n",
    "    star1s.append(star1)\n",
    "    \n",
    "    star2 = soup.find_all('div', class_=\"credit_summary_item\")[2].find_all('a')[1].text\n",
    "    star2s.append(star2)\n",
    "\n",
    "    star3 = soup.find_all('div', class_=\"credit_summary_item\")[2].find_all('a')[2].text\n",
    "    star3s.append(star3)\n",
    "\n",
    "    user_rev = soup.find('div',\n",
    "          class_=\n",
    "                \"titleReviewBarItem titleReviewbarItemBorder\").find_all('a')[0].text.split(' ')[0]\n",
    "    user_rev = user_rev.replace(',', '')\n",
    "    user_rev = int(user_rev)\n",
    "    u_revs.append(user_rev)\n",
    "    \n",
    "    critic_rev = soup.find('div',\n",
    "              class_=\n",
    "                    \"titleReviewBarItem titleReviewbarItemBorder\").find_all('a')[1].text.split(' ')[0]\n",
    "    critic_rev = critic_rev.replace(',', '')\n",
    "    critic_rev = int(critic_rev)\n",
    "    c_revs.append(critic_rev)\n",
    "    \n",
    "    blocks = soup.find_all('div', class_=\"txt-block\")\n",
    "    for i in range(len(blocks)):\n",
    "        if blocks[i].h4:\n",
    "            if blocks[i].h4.text == 'Filming Locations:':\n",
    "                loc = len(blocks[i].find_all('a'))\n",
    "                loc_nums.append(loc)\n",
    "                \n",
    "            elif blocks[i].h4.text == 'Budget:':\n",
    "                budget = blocks[i].get_text().strip()\n",
    "                budget = re.split('Budget:|estimated| ', budget)[1].strip().replace(',','')\n",
    "#                 budget = int(budget)\n",
    "#                 budget /= 1000000\n",
    "                budgets.append(budget)\n",
    "            elif blocks[i].h4.text == 'Runtime:':\n",
    "                time = blocks[i].time.text\n",
    "                time = int(time.split(' min')[0])\n",
    "                times.append(time)\n",
    "    sleep(randint(2,6))"
   ]
  },
  {
   "cell_type": "code",
   "execution_count": 23,
   "metadata": {
    "scrolled": false
   },
   "outputs": [
    {
     "name": "stdout",
     "output_type": "stream",
     "text": [
      "GBP10000000 appended for Page 1 \n",
      "GBP6000000 appended for Page 2 \n",
      "GBP6000000 appended for Page 3 \n",
      "GBP6000000 appended for Page 4 \n",
      "GBP6000000 appended for Page 5 \n",
      "GBP6000000 appended for Page 6 \n",
      "GBP6000000 appended for Page 7 \n",
      "GBP6000000 appended for Page 8 \n",
      "GBP6000000 appended for Page 9 \n",
      "GBP6000000 appended for Page 10 \n",
      "GBP6000000 appended for Page 11 \n",
      "GBP6000000 appended for Page 12 \n",
      "GBP6000000 appended for Page 13 \n",
      "GBP6000000 appended for Page 14 \n",
      "GBP6000000 appended for Page 15 \n",
      "GBP6000000 appended for Page 16 \n",
      "GBP6000000 appended for Page 17 \n",
      "GBP6000000 appended for Page 18 \n",
      "$8000000 appended for Page 19 \n",
      "GBP6000000 appended for Page 20 \n",
      "GBP4000000 appended for Page 21 \n",
      "GBP4000000 appended for Page 22 \n",
      "GBP4000000 appended for Page 23 \n",
      "GBP4000000 appended for Page 24 \n",
      "GBP4000000 appended for Page 25 \n",
      "GBP4000000 appended for Page 26 \n",
      "GBP4000000 appended for Page 27 \n",
      "GBP4000000 appended for Page 28 \n",
      "GBP4000000 appended for Page 29 \n",
      "GBP4000000 appended for Page 30 \n",
      "GBP7000000 appended for Page 31 \n",
      "GBP7000000 appended for Page 32 \n",
      "GBP7000000 appended for Page 33 \n",
      "GBP7000000 appended for Page 34 \n",
      "GBP7000000 appended for Page 35 \n",
      "GBP7000000 appended for Page 36 \n",
      "GBP7000000 appended for Page 37 \n",
      "GBP7000000 appended for Page 38 \n",
      "GBP7000000 appended for Page 39 \n",
      "GBP7000000 appended for Page 40 \n",
      "GBP6000000 appended for Page 41 \n",
      "GBP6000000 appended for Page 42 \n",
      "GBP6000000 appended for Page 43 \n",
      "GBP6000000 appended for Page 44 \n",
      "GBP6000000 appended for Page 45 \n",
      "GBP6000000 appended for Page 46 \n",
      "GBP6000000 appended for Page 47 \n",
      "GBP10000000 appended for Page 48 \n",
      "GBP6000000 appended for Page 49 \n",
      "GBP8000000 appended for Page 50 \n",
      "GBP8000000 appended for Page 51 \n",
      "GBP8000000 appended for Page 52 \n",
      "GBP8000000 appended for Page 53 \n",
      "GBP8000000 appended for Page 54 \n",
      "GBP8000000 appended for Page 55 \n",
      "GBP8000000 appended for Page 56 \n",
      "GBP8000000 appended for Page 57 \n",
      "GBP8000000 appended for Page 58 \n",
      "GBP10000000 appended for Page 59 \n",
      "GBP10000000 appended for Page 60 \n",
      "GBP10000000 appended for Page 61 \n",
      "GBP10000000 appended for Page 62 \n",
      "GBP10000000 appended for Page 63 \n",
      "GBP10000000 appended for Page 64 \n",
      "GBP10000000 appended for Page 65 \n",
      "GBP10000000 appended for Page 66 \n",
      "GBP10000000 appended for Page 67 \n",
      "GBP10000000 appended for Page 68 \n",
      "GBP10000000 appended for Page 69 \n",
      "GBP10000000 appended for Page 70 \n",
      "GBP10000000 appended for Page 71 \n",
      "GBP10000000 appended for Page 72 \n",
      "GBP10000000 appended for Page 73 \n"
     ]
    }
   ],
   "source": [
    "num = 0\n",
    "budgets = []\n",
    "for link in links:\n",
    "    url = 'https://www.imdb.com'+link\n",
    "    ep = get(url)\n",
    "    soup = BeautifulSoup(ep.text, 'html.parser')\n",
    "    \n",
    "    num += 1\n",
    "    \n",
    "    blocks = soup.find_all('div', class_=\"txt-block\")\n",
    "    for i in range(len(blocks)):\n",
    "        if blocks[i].h4:      \n",
    "            if blocks[i].h4.text == 'Budget:':\n",
    "                budget = blocks[i].get_text().strip()\n",
    "                budget = re.split('Budget:|estimated| ', budget)[1].strip().replace(',','')\n",
    "    budgets.append(budget)\n",
    "    print(f'{budget} appended for Page {num} ')\n",
    "#     print(f\"Page {num} Done: {url}\\n Budget: {budget}\")"
   ]
  },
  {
   "cell_type": "code",
   "execution_count": 24,
   "metadata": {},
   "outputs": [
    {
     "data": {
      "text/plain": [
       "73"
      ]
     },
     "execution_count": 24,
     "metadata": {},
     "output_type": "execute_result"
    }
   ],
   "source": [
    "len(budgets)"
   ]
  },
  {
   "cell_type": "code",
   "execution_count": 244,
   "metadata": {},
   "outputs": [],
   "source": [
    "# # titles = []\n",
    "# # ratings = []\n",
    "# # votes = []\n",
    "# # times = []\n",
    "# # aireds = []\n",
    "# # seasons = []\n",
    "# # episodes = []\n",
    "# summs = []\n",
    "# dirs = []\n",
    "# writer1s = []\n",
    "# writer2s = []\n",
    "# star1s = []\n",
    "# star2s = []\n",
    "# star3s = []\n",
    "# u_revs = []\n",
    "# c_revs = []\n",
    "# loc_nums = []\n",
    "# budgets = []"
   ]
  },
  {
   "cell_type": "code",
   "execution_count": 345,
   "metadata": {},
   "outputs": [],
   "source": [
    "df = pd.DataFrame({\n",
    "    'Season':seasons,\n",
    "    'Episode':episodes,\n",
    "    'Title':titles,\n",
    "#     'Duration': times,\n",
    "    'Release_date':aireds,\n",
    "    'Rating': ratings,\n",
    "    'Votes': votes,\n",
    "    'Summary': summs,\n",
    "#     'Director': dirs,\n",
    "    'Writer_1':writer1s,\n",
    "    'Writer_2':writer2s,\n",
    "    'Star_1': star1s,\n",
    "    'Star_2': star2s,\n",
    "    'Star_3': star3s,\n",
    "#     'Number_of_locations': loc_nums,\n",
    "#     'Budget':budgets,\n",
    "    'Users_reviews': u_revs,\n",
    "    'Critics_reviews': c_revs\n",
    "})\n",
    "df.head()"
   ]
  },
  {
   "cell_type": "code",
   "execution_count": 275,
   "metadata": {},
   "outputs": [],
   "source": [
    "url = 'https://en.wikipedia.org/wiki/List_of_Game_of_Thrones_episodes'\n",
    "wiki = get(url)\n",
    "soup = BeautifulSoup(wiki.text, 'html.parser')"
   ]
  },
  {
   "cell_type": "code",
   "execution_count": 283,
   "metadata": {
    "scrolled": false
   },
   "outputs": [
    {
     "data": {
      "text/plain": [
       "73"
      ]
     },
     "execution_count": 283,
     "metadata": {},
     "output_type": "execute_result"
    }
   ],
   "source": [
    "names = soup.find_all('td', class_=\"summary\")\n",
    "wiki_names = []\n",
    "for n in names:\n",
    "    if n.a:\n",
    "        wiki_names.append(n.a.text)\n",
    "len(wiki_names)"
   ]
  },
  {
   "cell_type": "code",
   "execution_count": 312,
   "metadata": {
    "scrolled": false
   },
   "outputs": [
    {
     "data": {
      "text/plain": [
       "75"
      ]
     },
     "execution_count": 312,
     "metadata": {},
     "output_type": "execute_result"
    }
   ],
   "source": [
    "rows = soup.find_all('tr', class_=\"vevent\")\n",
    "viewers = []\n",
    "for i in range(len(rows)):\n",
    "    f = rows[i].find_all('td', style=\"text-align:center\")\n",
    "    viewers.append(f[-1].text[:-4])\n",
    "len(viewers)"
   ]
  },
  {
   "cell_type": "code",
   "execution_count": 316,
   "metadata": {},
   "outputs": [
    {
     "data": {
      "text/plain": [
       "73"
      ]
     },
     "execution_count": 316,
     "metadata": {},
     "output_type": "execute_result"
    }
   ],
   "source": [
    "viewers = viewers[:73]\n",
    "len(viewers)"
   ]
  },
  {
   "cell_type": "code",
   "execution_count": 319,
   "metadata": {},
   "outputs": [],
   "source": [
    "df2 = pd.DataFrame({\n",
    "    'Title': wiki_names,\n",
    "    'Viewers': viewers\n",
    "})"
   ]
  },
  {
   "cell_type": "code",
   "execution_count": 322,
   "metadata": {},
   "outputs": [],
   "source": [
    "v1 = pd.merge(df, df2, how='left', on='Title')"
   ]
  },
  {
   "cell_type": "code",
   "execution_count": 341,
   "metadata": {},
   "outputs": [],
   "source": [
    "v1['Duration'] = times"
   ]
  },
  {
   "cell_type": "code",
   "execution_count": 346,
   "metadata": {},
   "outputs": [],
   "source": [
    "v1['Director'] = dirs"
   ]
  },
  {
   "cell_type": "code",
   "execution_count": 27,
   "metadata": {},
   "outputs": [],
   "source": [
    "v2 = pd.read_csv('GOT_v2.csv')\n",
    "v2['Budget_estimate'] = budgets"
   ]
  },
  {
   "cell_type": "code",
   "execution_count": 36,
   "metadata": {
    "scrolled": true
   },
   "outputs": [
    {
     "name": "stderr",
     "output_type": "stream",
     "text": [
      "C:\\Users\\Roshd It\\AppData\\Local\\Programs\\Python\\Python37-32\\lib\\site-packages\\ipykernel_launcher.py:1: SettingWithCopyWarning: \n",
      "A value is trying to be set on a copy of a slice from a DataFrame\n",
      "\n",
      "See the caveats in the documentation: https://pandas.pydata.org/pandas-docs/stable/user_guide/indexing.html#returning-a-view-versus-a-copy\n",
      "  \"\"\"Entry point for launching an IPython kernel.\n"
     ]
    }
   ],
   "source": [
    "v2['Budget_estimate'][18]= 'PGB10000000'"
   ]
  },
  {
   "cell_type": "code",
   "execution_count": 38,
   "metadata": {},
   "outputs": [],
   "source": [
    "v2.to_csv('GOT_v3.csv')"
   ]
  },
  {
   "cell_type": "code",
   "execution_count": 59,
   "metadata": {},
   "outputs": [],
   "source": [
    "cast = 'https://www.imdb.com/title/tt0944947/fullcredits?ref_=tt_cl_sm#cast'\n",
    "res = get(cast)\n",
    "soup3 = BeautifulSoup(res.text, 'html.parser')"
   ]
  },
  {
   "cell_type": "code",
   "execution_count": 61,
   "metadata": {
    "scrolled": false
   },
   "outputs": [],
   "source": [
    "cast_box = soup3.find('table', class_=\"cast_list\").find_all('td')\n",
    "cast_names = []\n",
    "for c in cast_box:\n",
    "    if c:\n",
    "        if c.a:\n",
    "            if c.a.img:\n",
    "                cast_names.append(c.a.img['alt'])"
   ]
  },
  {
   "cell_type": "code",
   "execution_count": 147,
   "metadata": {},
   "outputs": [
    {
     "data": {
      "text/plain": [
       "832"
      ]
     },
     "execution_count": 147,
     "metadata": {},
     "output_type": "execute_result"
    }
   ],
   "source": [
    "len(cast_names)"
   ]
  },
  {
   "cell_type": "code",
   "execution_count": 161,
   "metadata": {
    "scrolled": true
   },
   "outputs": [],
   "source": [
    "char_box = soup3.find('table', class_=\"cast_list\").find_all('td', class_=\"character\")\n",
    "char_names = []\n",
    "\n",
    "for c in char_box:\n",
    "    if len(c.find_all('a'))==1:\n",
    "        char_names.append(c.text.strip())\n",
    "    elif len(c.find_all('a'))==2:\n",
    "        char_names.append(c.a.text.strip())"
   ]
  },
  {
   "cell_type": "code",
   "execution_count": 163,
   "metadata": {},
   "outputs": [
    {
     "data": {
      "text/plain": [
       "832"
      ]
     },
     "execution_count": 163,
     "metadata": {},
     "output_type": "execute_result"
    }
   ],
   "source": [
    "len(char_names)"
   ]
  },
  {
   "cell_type": "code",
   "execution_count": 83,
   "metadata": {
    "scrolled": false
   },
   "outputs": [
    {
     "data": {
      "text/plain": [
       "832"
      ]
     },
     "execution_count": 83,
     "metadata": {},
     "output_type": "execute_result"
    }
   ],
   "source": [
    "epis_box = soup3.find('table', class_=\"cast_list\").find_all(\n",
    "    'td', class_=\"character\")\n",
    "epis = []\n",
    "for c in epis_box:\n",
    "    epis.append(c.find('a', class_=\"toggle-episodes\").text.strip())\n",
    "len(epis)"
   ]
  },
  {
   "cell_type": "code",
   "execution_count": 89,
   "metadata": {
    "scrolled": false
   },
   "outputs": [
    {
     "data": {
      "text/plain": [
       "832"
      ]
     },
     "execution_count": 89,
     "metadata": {},
     "output_type": "execute_result"
    }
   ],
   "source": [
    "epis_nums = []\n",
    "for m in epis:\n",
    "    a = m.split(',')[0]\n",
    "    a = re.split(' episodes| episode', a)[0]\n",
    "    epis_nums.append(int(a))\n",
    "len(epis_nums)"
   ]
  },
  {
   "cell_type": "code",
   "execution_count": 98,
   "metadata": {},
   "outputs": [],
   "source": [
    "epis[0].split(', ')[1].split('-')\n",
    "first_appear = []\n",
    "last_appear = []\n",
    "for m in epis:\n",
    "    a = m.split(', ')[1].split('-')\n",
    "    first_appear.append(int(a[0]))\n",
    "    if len(a) == 2:\n",
    "        last_appear.append(int(a[1]))\n",
    "    elif len(a) == 1:\n",
    "        last_appear.append(int(a[0]))\n",
    "    else:\n",
    "        print(f'Error with {m}: it has {len(a)} members.')"
   ]
  },
  {
   "cell_type": "code",
   "execution_count": 197,
   "metadata": {},
   "outputs": [],
   "source": [
    "char_df = pd.DataFrame({\n",
    "    'Character': char_names,\n",
    "    'Actor/ess': cast_names,\n",
    "    'Episodes_appeared': epis_nums,\n",
    "    'First_appearance': first_appear,\n",
    "    'Last_appearance': last_appear\n",
    "})"
   ]
  },
  {
   "cell_type": "code",
   "execution_count": 198,
   "metadata": {},
   "outputs": [],
   "source": [
    "char_df.Character = char_df.Character.apply(lambda x: x.replace(\n",
    "    '(uncredited)', '').replace('\\n', '').replace('   ', '').split('  ')[0])"
   ]
  },
  {
   "cell_type": "code",
   "execution_count": 209,
   "metadata": {},
   "outputs": [],
   "source": [
    "char_df.Character = char_df.Character.apply(lambda x: x.split('/ ... ')[0])"
   ]
  },
  {
   "cell_type": "code",
   "execution_count": 215,
   "metadata": {},
   "outputs": [
    {
     "name": "stderr",
     "output_type": "stream",
     "text": [
      "C:\\Users\\Roshd It\\AppData\\Local\\Programs\\Python\\Python37-32\\lib\\site-packages\\ipykernel_launcher.py:2: SettingWithCopyWarning: \n",
      "A value is trying to be set on a copy of a slice from a DataFrame\n",
      "\n",
      "See the caveats in the documentation: https://pandas.pydata.org/pandas-docs/stable/user_guide/indexing.html#returning-a-view-versus-a-copy\n",
      "  \n"
     ]
    }
   ],
   "source": [
    "char_df.Character[char_df['Character'].str.contains(\"episode\")] = char_df.Character[\n",
    "    char_df['Character'].str.contains(\"episode\")].apply(lambda x: x.split(' episode')[0][:-1])"
   ]
  },
  {
   "cell_type": "code",
   "execution_count": 220,
   "metadata": {},
   "outputs": [
    {
     "name": "stderr",
     "output_type": "stream",
     "text": [
      "C:\\Users\\Roshd It\\AppData\\Local\\Programs\\Python\\Python37-32\\lib\\site-packages\\ipykernel_launcher.py:2: SettingWithCopyWarning: \n",
      "A value is trying to be set on a copy of a slice from a DataFrame\n",
      "\n",
      "See the caveats in the documentation: https://pandas.pydata.org/pandas-docs/stable/user_guide/indexing.html#returning-a-view-versus-a-copy\n",
      "  \n"
     ]
    }
   ],
   "source": [
    "char_df.Character[char_df.Character.str.contains('/')] = char_df.Character[\n",
    "    char_df.Character.str.contains('/')].apply(lambda x: x.split('/ ...')[0])"
   ]
  },
  {
   "cell_type": "code",
   "execution_count": 222,
   "metadata": {},
   "outputs": [],
   "source": [
    "char_df.to_csv('characters_v4.csv')"
   ]
  },
  {
   "cell_type": "code",
   "execution_count": 106,
   "metadata": {},
   "outputs": [],
   "source": [
    "houses = 'https://awoiaf.westeros.org/index.php/List_of_houses'\n",
    "resp = get(houses)\n",
    "soup4 = BeautifulSoup(resp.text, 'html.parser')"
   ]
  },
  {
   "cell_type": "code",
   "execution_count": 122,
   "metadata": {},
   "outputs": [
    {
     "data": {
      "text/plain": [
       "471"
      ]
     },
     "execution_count": 122,
     "metadata": {},
     "output_type": "execute_result"
    }
   ],
   "source": [
    "reg = soup4.find_all('tr')[1].find_all('td')[0].text\n",
    "h = soup4.find_all('tr')[1].find_all('td')[1].text\n",
    "main_box = soup4.find_all('tr')\n",
    "regions = []\n",
    "houses = []\n",
    "for m in main_box:\n",
    "    if m.find_all('td'):\n",
    "        regions.append(m.find_all('td')[0].text)\n",
    "        houses.append(m.find_all('td')[1].text)\n",
    "# len(regions)\n",
    "len(houses)"
   ]
  },
  {
   "cell_type": "code",
   "execution_count": 124,
   "metadata": {},
   "outputs": [],
   "source": [
    "houses_df = pd.DataFrame({\n",
    "    'House_name': houses,\n",
    "    'Region': regions\n",
    "})"
   ]
  },
  {
   "cell_type": "code",
   "execution_count": 125,
   "metadata": {},
   "outputs": [],
   "source": [
    "houses_df.to_csv('houses.csv')"
   ]
  },
  {
   "cell_type": "code",
   "execution_count": 132,
   "metadata": {},
   "outputs": [],
   "source": [
    "df = pd.read_csv('GOT_v3.csv')"
   ]
  },
  {
   "cell_type": "code",
   "execution_count": 134,
   "metadata": {},
   "outputs": [],
   "source": [
    "# df = df.drop(['Unnamed: 0', 'Unnamed: 0.1'], axis=1)\n",
    "df.Budget_estimate = df.Budget_estimate.apply(lambda x: x[3:])"
   ]
  },
  {
   "cell_type": "code",
   "execution_count": 139,
   "metadata": {},
   "outputs": [],
   "source": [
    "df.Budget_estimate = df.Budget_estimate.astype(int)"
   ]
  },
  {
   "cell_type": "code",
   "execution_count": 140,
   "metadata": {},
   "outputs": [],
   "source": [
    "df.to_csv('GOT_v4.csv')"
   ]
  },
  {
   "cell_type": "code",
   "execution_count": 142,
   "metadata": {},
   "outputs": [
    {
     "data": {
      "text/html": [
       "<div>\n",
       "<style scoped>\n",
       "    .dataframe tbody tr th:only-of-type {\n",
       "        vertical-align: middle;\n",
       "    }\n",
       "\n",
       "    .dataframe tbody tr th {\n",
       "        vertical-align: top;\n",
       "    }\n",
       "\n",
       "    .dataframe thead th {\n",
       "        text-align: right;\n",
       "    }\n",
       "</style>\n",
       "<table border=\"1\" class=\"dataframe\">\n",
       "  <thead>\n",
       "    <tr style=\"text-align: right;\">\n",
       "      <th></th>\n",
       "      <th>Character</th>\n",
       "      <th>Actor/ess</th>\n",
       "      <th>Episodes_appeared</th>\n",
       "      <th>First_appearance</th>\n",
       "      <th>Last_appearance</th>\n",
       "    </tr>\n",
       "  </thead>\n",
       "  <tbody>\n",
       "    <tr>\n",
       "      <th>827</th>\n",
       "      <td>1 episode, 2019\\n</td>\n",
       "      <td>Chris Stapleton</td>\n",
       "      <td>1</td>\n",
       "      <td>2019</td>\n",
       "      <td>2019</td>\n",
       "    </tr>\n",
       "    <tr>\n",
       "      <th>828</th>\n",
       "      <td>Ironborn #2</td>\n",
       "      <td>Martin Starr</td>\n",
       "      <td>1</td>\n",
       "      <td>2019</td>\n",
       "      <td>2019</td>\n",
       "    </tr>\n",
       "    <tr>\n",
       "      <th>829</th>\n",
       "      <td>1 episode, 2019\\n</td>\n",
       "      <td>Vasco Temudo</td>\n",
       "      <td>1</td>\n",
       "      <td>2019</td>\n",
       "      <td>2019</td>\n",
       "    </tr>\n",
       "    <tr>\n",
       "      <th>830</th>\n",
       "      <td>Wildling #1</td>\n",
       "      <td>D.B. Weiss</td>\n",
       "      <td>1</td>\n",
       "      <td>2019</td>\n",
       "      <td>2019</td>\n",
       "    </tr>\n",
       "    <tr>\n",
       "      <th>831</th>\n",
       "      <td>1 episode, 2019\\n</td>\n",
       "      <td>Gareth Wright</td>\n",
       "      <td>1</td>\n",
       "      <td>2019</td>\n",
       "      <td>2019</td>\n",
       "    </tr>\n",
       "  </tbody>\n",
       "</table>\n",
       "</div>"
      ],
      "text/plain": [
       "                                     Character        Actor/ess  \\\n",
       "827  1 episode, 2019\\n                          Chris Stapleton   \n",
       "828                                Ironborn #2     Martin Starr   \n",
       "829  1 episode, 2019\\n                             Vasco Temudo   \n",
       "830                                Wildling #1       D.B. Weiss   \n",
       "831  1 episode, 2019\\n                            Gareth Wright   \n",
       "\n",
       "     Episodes_appeared  First_appearance  Last_appearance  \n",
       "827                  1              2019             2019  \n",
       "828                  1              2019             2019  \n",
       "829                  1              2019             2019  \n",
       "830                  1              2019             2019  \n",
       "831                  1              2019             2019  "
      ]
     },
     "execution_count": 142,
     "metadata": {},
     "output_type": "execute_result"
    }
   ],
   "source": [
    "df = pd.read_csv('characters_v1.csv')\n",
    "df.tail()"
   ]
  },
  {
   "cell_type": "code",
   "execution_count": 145,
   "metadata": {},
   "outputs": [
    {
     "data": {
      "text/html": [
       "<div>\n",
       "<style scoped>\n",
       "    .dataframe tbody tr th:only-of-type {\n",
       "        vertical-align: middle;\n",
       "    }\n",
       "\n",
       "    .dataframe tbody tr th {\n",
       "        vertical-align: top;\n",
       "    }\n",
       "\n",
       "    .dataframe thead th {\n",
       "        text-align: right;\n",
       "    }\n",
       "</style>\n",
       "<table border=\"1\" class=\"dataframe\">\n",
       "  <thead>\n",
       "    <tr style=\"text-align: right;\">\n",
       "      <th></th>\n",
       "      <th>Character</th>\n",
       "      <th>Actor/ess</th>\n",
       "      <th>Episodes_appeared</th>\n",
       "      <th>First_appearance</th>\n",
       "      <th>Last_appearance</th>\n",
       "    </tr>\n",
       "  </thead>\n",
       "  <tbody>\n",
       "    <tr>\n",
       "      <th>812</th>\n",
       "      <td>Wildling #2</td>\n",
       "      <td>David Benioff</td>\n",
       "      <td>1</td>\n",
       "      <td>2019</td>\n",
       "      <td>2019</td>\n",
       "    </tr>\n",
       "    <tr>\n",
       "      <th>813</th>\n",
       "      <td>1 episode, 2019</td>\n",
       "      <td>Brian Black</td>\n",
       "      <td>1</td>\n",
       "      <td>2019</td>\n",
       "      <td>2019</td>\n",
       "    </tr>\n",
       "    <tr>\n",
       "      <th>814</th>\n",
       "      <td>Alanna</td>\n",
       "      <td>Kim Chapman</td>\n",
       "      <td>1</td>\n",
       "      <td>2019</td>\n",
       "      <td>2019</td>\n",
       "    </tr>\n",
       "    <tr>\n",
       "      <th>815</th>\n",
       "      <td>1 episode, 2019</td>\n",
       "      <td>Sophie Ellis-Bextor</td>\n",
       "      <td>1</td>\n",
       "      <td>2019</td>\n",
       "      <td>2019</td>\n",
       "    </tr>\n",
       "    <tr>\n",
       "      <th>816</th>\n",
       "      <td>1 episode, 2019</td>\n",
       "      <td>Dave Hill</td>\n",
       "      <td>1</td>\n",
       "      <td>2019</td>\n",
       "      <td>2019</td>\n",
       "    </tr>\n",
       "    <tr>\n",
       "      <th>817</th>\n",
       "      <td>1 episode, 2019</td>\n",
       "      <td>Jack Hudson</td>\n",
       "      <td>1</td>\n",
       "      <td>2019</td>\n",
       "      <td>2019</td>\n",
       "    </tr>\n",
       "    <tr>\n",
       "      <th>818</th>\n",
       "      <td>1 episode, 2019</td>\n",
       "      <td>Richard Jones</td>\n",
       "      <td>1</td>\n",
       "      <td>2019</td>\n",
       "      <td>2019</td>\n",
       "    </tr>\n",
       "    <tr>\n",
       "      <th>819</th>\n",
       "      <td>Ironborn #1</td>\n",
       "      <td>Rob McElhenney</td>\n",
       "      <td>1</td>\n",
       "      <td>2019</td>\n",
       "      <td>2019</td>\n",
       "    </tr>\n",
       "    <tr>\n",
       "      <th>820</th>\n",
       "      <td>1 episode, 2019</td>\n",
       "      <td>Patrick McGilligan</td>\n",
       "      <td>1</td>\n",
       "      <td>2019</td>\n",
       "      <td>2019</td>\n",
       "    </tr>\n",
       "    <tr>\n",
       "      <th>821</th>\n",
       "      <td>1 episode, 2019</td>\n",
       "      <td>Jesse Morris</td>\n",
       "      <td>1</td>\n",
       "      <td>2019</td>\n",
       "      <td>2019</td>\n",
       "    </tr>\n",
       "    <tr>\n",
       "      <th>822</th>\n",
       "      <td>1 episode, 2019</td>\n",
       "      <td>Duncan Muggoch</td>\n",
       "      <td>1</td>\n",
       "      <td>2019</td>\n",
       "      <td>2019</td>\n",
       "    </tr>\n",
       "    <tr>\n",
       "      <th>823</th>\n",
       "      <td>1 episode, 2019</td>\n",
       "      <td>Michelle O'Flaherty</td>\n",
       "      <td>1</td>\n",
       "      <td>2019</td>\n",
       "      <td>2019</td>\n",
       "    </tr>\n",
       "    <tr>\n",
       "      <th>824</th>\n",
       "      <td>1 episode, 2019</td>\n",
       "      <td>Adam Quigley-Nixon</td>\n",
       "      <td>1</td>\n",
       "      <td>2019</td>\n",
       "      <td>2019</td>\n",
       "    </tr>\n",
       "    <tr>\n",
       "      <th>825</th>\n",
       "      <td>1 episode, 2019</td>\n",
       "      <td>Aaron Rodgers</td>\n",
       "      <td>1</td>\n",
       "      <td>2019</td>\n",
       "      <td>2019</td>\n",
       "    </tr>\n",
       "    <tr>\n",
       "      <th>826</th>\n",
       "      <td>1 episode, 2019</td>\n",
       "      <td>Derek Smith</td>\n",
       "      <td>1</td>\n",
       "      <td>2019</td>\n",
       "      <td>2019</td>\n",
       "    </tr>\n",
       "    <tr>\n",
       "      <th>827</th>\n",
       "      <td>1 episode, 2019</td>\n",
       "      <td>Chris Stapleton</td>\n",
       "      <td>1</td>\n",
       "      <td>2019</td>\n",
       "      <td>2019</td>\n",
       "    </tr>\n",
       "    <tr>\n",
       "      <th>828</th>\n",
       "      <td>Ironborn #2</td>\n",
       "      <td>Martin Starr</td>\n",
       "      <td>1</td>\n",
       "      <td>2019</td>\n",
       "      <td>2019</td>\n",
       "    </tr>\n",
       "    <tr>\n",
       "      <th>829</th>\n",
       "      <td>1 episode, 2019</td>\n",
       "      <td>Vasco Temudo</td>\n",
       "      <td>1</td>\n",
       "      <td>2019</td>\n",
       "      <td>2019</td>\n",
       "    </tr>\n",
       "    <tr>\n",
       "      <th>830</th>\n",
       "      <td>Wildling #1</td>\n",
       "      <td>D.B. Weiss</td>\n",
       "      <td>1</td>\n",
       "      <td>2019</td>\n",
       "      <td>2019</td>\n",
       "    </tr>\n",
       "    <tr>\n",
       "      <th>831</th>\n",
       "      <td>1 episode, 2019</td>\n",
       "      <td>Gareth Wright</td>\n",
       "      <td>1</td>\n",
       "      <td>2019</td>\n",
       "      <td>2019</td>\n",
       "    </tr>\n",
       "  </tbody>\n",
       "</table>\n",
       "</div>"
      ],
      "text/plain": [
       "           Character            Actor/ess  Episodes_appeared  \\\n",
       "812      Wildling #2        David Benioff                  1   \n",
       "813  1 episode, 2019          Brian Black                  1   \n",
       "814           Alanna          Kim Chapman                  1   \n",
       "815  1 episode, 2019  Sophie Ellis-Bextor                  1   \n",
       "816  1 episode, 2019            Dave Hill                  1   \n",
       "817  1 episode, 2019          Jack Hudson                  1   \n",
       "818  1 episode, 2019        Richard Jones                  1   \n",
       "819      Ironborn #1       Rob McElhenney                  1   \n",
       "820  1 episode, 2019   Patrick McGilligan                  1   \n",
       "821  1 episode, 2019         Jesse Morris                  1   \n",
       "822  1 episode, 2019       Duncan Muggoch                  1   \n",
       "823  1 episode, 2019  Michelle O'Flaherty                  1   \n",
       "824  1 episode, 2019   Adam Quigley-Nixon                  1   \n",
       "825  1 episode, 2019        Aaron Rodgers                  1   \n",
       "826  1 episode, 2019          Derek Smith                  1   \n",
       "827  1 episode, 2019      Chris Stapleton                  1   \n",
       "828      Ironborn #2         Martin Starr                  1   \n",
       "829  1 episode, 2019         Vasco Temudo                  1   \n",
       "830      Wildling #1           D.B. Weiss                  1   \n",
       "831  1 episode, 2019        Gareth Wright                  1   \n",
       "\n",
       "     First_appearance  Last_appearance  \n",
       "812              2019             2019  \n",
       "813              2019             2019  \n",
       "814              2019             2019  \n",
       "815              2019             2019  \n",
       "816              2019             2019  \n",
       "817              2019             2019  \n",
       "818              2019             2019  \n",
       "819              2019             2019  \n",
       "820              2019             2019  \n",
       "821              2019             2019  \n",
       "822              2019             2019  \n",
       "823              2019             2019  \n",
       "824              2019             2019  \n",
       "825              2019             2019  \n",
       "826              2019             2019  \n",
       "827              2019             2019  \n",
       "828              2019             2019  \n",
       "829              2019             2019  \n",
       "830              2019             2019  \n",
       "831              2019             2019  "
      ]
     },
     "execution_count": 145,
     "metadata": {},
     "output_type": "execute_result"
    }
   ],
   "source": [
    "df.Character = df.Character.apply(lambda x: x.strip())\n",
    "df.tail(20)"
   ]
  }
 ],
 "metadata": {
  "kernelspec": {
   "display_name": "Python 3",
   "language": "python",
   "name": "python3"
  },
  "language_info": {
   "codemirror_mode": {
    "name": "ipython",
    "version": 3
   },
   "file_extension": ".py",
   "mimetype": "text/x-python",
   "name": "python",
   "nbconvert_exporter": "python",
   "pygments_lexer": "ipython3",
   "version": "3.9.1"
  }
 },
 "nbformat": 4,
 "nbformat_minor": 4
}
